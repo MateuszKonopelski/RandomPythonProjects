{
 "cells": [
  {
   "cell_type": "markdown",
   "metadata": {
    "collapsed": true
   },
   "source": [
    "Exercise1"
   ]
  },
  {
   "cell_type": "code",
   "execution_count": 7,
   "metadata": {},
   "outputs": [
    {
     "name": "stdout",
     "output_type": "stream",
     "text": [
      "Otwarcie pliku i zamknięcie\n"
     ]
    }
   ],
   "source": [
    "# odczytaj to\n",
    "print('Otwarcie pliku i zamknięcie')\n",
    "text_file = open('Project4_PythonProgramming_Dawson\\\\data\\\\odczytaj_to.txt')\n",
    "text_file.close()"
   ]
  },
  {
   "cell_type": "code",
   "execution_count": 20,
   "metadata": {},
   "outputs": [],
   "source": [
    "text_file = open('Project4_PythonProgramming_Dawson\\\\data\\\\odczytaj_to.txt', 'r')"
   ]
  },
  {
   "cell_type": "code",
   "execution_count": 21,
   "metadata": {},
   "outputs": [
    {
     "name": "stdout",
     "output_type": "stream",
     "text": [
      "W\niersz 1\n"
     ]
    }
   ],
   "source": [
    "print(text_file.read(1))\n",
    "print(text_file.read(7))\n",
    "text_file.close()\n",
    "\n"
   ]
  },
  {
   "cell_type": "code",
   "execution_count": 22,
   "metadata": {},
   "outputs": [],
   "source": [
    "text_file = open('Project4_PythonProgramming_Dawson\\\\data\\\\odczytaj_to.txt', 'r')\n",
    "whole_file = text_file.read()\n",
    "print(whole_file)\n",
    "text_file.close()"
   ]
  },
  {
   "cell_type": "code",
   "execution_count": 23,
   "metadata": {},
   "outputs": [
    {
     "name": "stdout",
     "output_type": "stream",
     "text": [
      "W\nie\n"
     ]
    }
   ],
   "source": [
    "text_file = open('Project4_PythonProgramming_Dawson\\\\data\\\\odczytaj_to.txt', 'r')\n",
    "print(text_file.readline(1))\n",
    "print(text_file.readline(2))\n",
    "text_file.close()"
   ]
  },
  {
   "cell_type": "code",
   "execution_count": 24,
   "metadata": {},
   "outputs": [
    {
     "name": "stdout",
     "output_type": "stream",
     "text": [
      "Wiersz 1\n\nTo jest wiersz 2\n\nTen tekst tworzy wiersz 3\n\n"
     ]
    }
   ],
   "source": [
    "text_file = open('Project4_PythonProgramming_Dawson\\\\data\\\\odczytaj_to.txt', 'r')\n",
    "print(text_file.readline())\n",
    "print(text_file.readline())\n",
    "print(text_file.readline())\n",
    "text_file.close()"
   ]
  },
  {
   "cell_type": "code",
   "execution_count": 27,
   "metadata": {},
   "outputs": [
    {
     "name": "stdout",
     "output_type": "stream",
     "text": [
      "['Wiersz 1\\n', 'To jest wiersz 2\\n', 'Ten tekst tworzy wiersz 3\\n']\n3\nWiersz 1\n\nTo jest wiersz 2\n\nTen tekst tworzy wiersz 3\n\n"
     ]
    }
   ],
   "source": [
    "# Wczytanie całego pliku \n",
    "text_file = open('Project4_PythonProgramming_Dawson\\\\data\\\\odczytaj_to.txt', 'r')\n",
    "lines = text_file.readlines()\n",
    "print(lines)\n",
    "print(len(lines))\n",
    "for line in lines:\n",
    "    print(line)\n",
    "text_file.close()"
   ]
  },
  {
   "cell_type": "code",
   "execution_count": 28,
   "metadata": {},
   "outputs": [
    {
     "name": "stdout",
     "output_type": "stream",
     "text": [
      "Wiersz 1\n\nTo jest wiersz 2\n\nTen tekst tworzy wiersz 3\n\n"
     ]
    }
   ],
   "source": [
    "text_file = open('Project4_PythonProgramming_Dawson\\\\data\\\\odczytaj_to.txt', 'r')\n",
    "for line in text_file:\n",
    "    print(line)\n",
    "text_file.close()"
   ]
  },
  {
   "cell_type": "code",
   "execution_count": null,
   "metadata": {},
   "outputs": [],
   "source": []
  }
 ],
 "metadata": {
  "kernelspec": {
   "display_name": "Python 2",
   "language": "python",
   "name": "python2"
  },
  "language_info": {
   "codemirror_mode": {
    "name": "ipython",
    "version": 2
   },
   "file_extension": ".py",
   "mimetype": "text/x-python",
   "name": "python",
   "nbconvert_exporter": "python",
   "pygments_lexer": "ipython2",
   "version": "2.7.6"
  }
 },
 "nbformat": 4,
 "nbformat_minor": 0
}
