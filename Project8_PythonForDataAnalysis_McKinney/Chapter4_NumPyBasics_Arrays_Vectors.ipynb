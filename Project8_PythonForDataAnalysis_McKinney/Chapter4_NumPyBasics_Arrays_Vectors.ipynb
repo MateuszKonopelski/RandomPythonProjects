{
 "cells": [
  {
   "cell_type": "code",
   "execution_count": 2,
   "metadata": {
    "collapsed": true
   },
   "outputs": [],
   "source": [
    "import numpy as np"
   ]
  },
  {
   "cell_type": "code",
   "execution_count": 7,
   "metadata": {},
   "outputs": [
    {
     "name": "stdout",
     "output_type": "stream",
     "text": [
      "[1.  2.3 3.  4. ] \ttype: float64\n"
     ]
    }
   ],
   "source": [
    "data1 = [1, 2.3, 3, 4]\n",
    "arr1 = np.array(data1)\n",
    "print(arr1, '\\ttype:', arr1.dtype)"
   ]
  },
  {
   "cell_type": "code",
   "execution_count": 4,
   "metadata": {},
   "outputs": [
    {
     "name": "stdout",
     "output_type": "stream",
     "text": [
      "[[1 2 3 4]\n [5 6 7 8]]\ndimensions:  2 \tshape:  (2, 4) \ttype:  int32\n"
     ]
    }
   ],
   "source": [
    "data2 = [[1, 2, 3, 4], [5, 6, 7, 8]]\n",
    "arr2 = np.array(data2)\n",
    "print(arr2)\n",
    "print('dimensions: ', arr2.ndim, '\\tshape: ', arr2.shape, '\\ttype: ', arr2.dtype)"
   ]
  },
  {
   "cell_type": "code",
   "execution_count": 5,
   "metadata": {},
   "outputs": [
    {
     "name": "stdout",
     "output_type": "stream",
     "text": [
      "[0. 0. 0. 0. 0. 0. 0. 0. 0. 0.]\n[[0. 0. 0. 0. 0. 0.]\n [0. 0. 0. 0. 0. 0.]\n [0. 0. 0. 0. 0. 0.]]\n[[[8.18753309e-280 0.00000000e+000 3.62633684e+228 3.98450716e+252]\n  [8.12549907e-096 8.95402178e-096 1.96099265e+243 1.33733641e+160]\n  [3.98452900e+252 8.82142681e+199 8.16814779e-096 6.32307098e+233]]\n\n [[1.96086537e+243 2.85274704e-109 6.19522232e+223 5.03734623e+180]\n  [9.82395831e+252 8.37170577e-144 6.02182527e+151 9.30537465e+199]\n  [2.20835466e-094 5.50028887e+247 1.56246488e+161 1.63789377e-152]]]\n"
     ]
    }
   ],
   "source": [
    "print(np.zeros(10))\n",
    "print(np.zeros((3, 6)))\n",
    "print(np.empty((2, 3, 4)))"
   ]
  },
  {
   "cell_type": "code",
   "execution_count": 6,
   "metadata": {},
   "outputs": [
    {
     "name": "stdout",
     "output_type": "stream",
     "text": [
      "[ 0  1  2  3  4  5  6  7  8  9 10 11 12 13 14 15 16 17 18 19 20 21 22 23\n 24 25 26 27 28 29 30 31 32 33 34 35 36 37 38 39 40 41 42 43 44 45 46 47\n 48 49 50 51 52 53 54 55 56 57 58 59 60 61 62 63 64 65 66 67 68 69 70 71\n 72 73 74 75 76 77 78 79 80 81 82 83 84 85 86 87 88 89 90 91 92 93 94 95\n 96 97 98 99]\n"
     ]
    }
   ],
   "source": [
    "print(np.arange(100))"
   ]
  },
  {
   "cell_type": "code",
   "execution_count": 8,
   "metadata": {},
   "outputs": [
    {
     "name": "stdout",
     "output_type": "stream",
     "text": [
      "[1. 2. 3.] type:  float64\n[1 2 3] type: int32\n"
     ]
    }
   ],
   "source": [
    "# Different data types for arrays:\n",
    "arr1 = np.array([1, 2, 3], dtype=np.float64)\n",
    "arr2 = np.array([1, 2, 3], dtype=np.int32)\n",
    "print(arr1, 'type: ', arr1.dtype)\n",
    "print(arr2, 'type:', arr2.dtype)"
   ]
  },
  {
   "cell_type": "code",
   "execution_count": 10,
   "metadata": {},
   "outputs": [
    {
     "name": "stdout",
     "output_type": "stream",
     "text": [
      "float64\n"
     ]
    }
   ],
   "source": [
    "# Convert one Type to another:\n",
    "arr3 = np.array([1, 2, 3])\n",
    "arr4 = arr3.astype(np.float64)\n",
    "print(arr4.dtype)"
   ]
  },
  {
   "cell_type": "code",
   "execution_count": 19,
   "metadata": {},
   "outputs": [
    {
     "name": "stdout",
     "output_type": "stream",
     "text": [
      "[[1.25 2.5  3.75]\n [5.   6.25 7.5 ]]\n[[1.         0.5        0.33333333]\n [0.25       0.2        0.16666667]]\n[[1 2 3]\n [4 5 6]] \n [[3 2 1]\n [5 4 3]]\n[[ True False False]\n [ True False False]]\n"
     ]
    }
   ],
   "source": [
    "# Math operations on vectors\n",
    "arr5 = np.array([[1, 2, 3], [4, 5, 6]], dtype=np.int32)\n",
    "print(arr5 * 1.25)\n",
    "print(1/arr5)\n",
    "arr6 = np.array([[3, 2, 1], [5, 4, 3]])\n",
    "print(arr5, '\\n', arr6)\n",
    "print(arr5 < arr6)"
   ]
  },
  {
   "cell_type": "code",
   "execution_count": 43,
   "metadata": {},
   "outputs": [
    {
     "name": "stdout",
     "output_type": "stream",
     "text": [
      "[5 6 7]\n[ 0  1  2  3  4 12 12 12  8  9]\n[    0     1     2     3     4    12 12345    12     8     9]\n4 || 4\n[[[ 0  1  2]\n  [ 3  4  5]\n  [ 6  7  8]]\n\n [[ 9 10 11]\n  [12 13 14]\n  [15 16 17]]]\n[[[ 0  1  2]\n  [ 3  4  5]\n  [ 6  7 99]]\n\n [[ 9 10 11]\n  [12 13 14]\n  [15 16 17]]]\n\n [[1 2 3 4]\n [6 7 8 9]]\n[[1 2 3 4]]\n[[4]]\n[[1]\n [6]]\n[[1 2 0 4]\n [6 7 0 9]]\n"
     ]
    }
   ],
   "source": [
    "# Indexing and slicing Arrays\n",
    "arr7 = np.array([0, 1, 2, 3, 4, 5, 6, 7, 8, 9])\n",
    "print(arr7[5:8])\n",
    "arr7[5:8] = 12\n",
    "print(arr7)\n",
    "arr_slice = arr7[5:8]\n",
    "arr_slice[1] = 12345        # changing slice (view) is changing original arrays\n",
    "print(arr7)\n",
    "# 2 dimensions Indexing\n",
    "arr8 = np.array([[1, 2, 3, 4], [6, 7, 8, 9]])\n",
    "print(arr8[0][3], '||', arr8[0, 3])\n",
    "# 3 Dimensions Indexing\n",
    "arr9 = np.array([[[0, 1, 2], [3, 4, 5], [6, 7, 8]],[[9, 10, 11], [12, 13, 14], [15, 16, 17]]])\n",
    "print(arr9)\n",
    "arr9_slice = arr9[0]\n",
    "arr9_slice[2][2] = 99       # changing slice (view) is changing original arrays\n",
    "print(arr9)\n",
    "# 2 Dimensions Slice\n",
    "print('\\n',arr8)\n",
    "print(arr8[:1])\n",
    "print(arr8[:1, 3:])\n",
    "print(arr8[:, :1])\n",
    "arr8[:, 2] = 0\n",
    "print(arr8)"
   ]
  },
  {
   "cell_type": "code",
   "execution_count": 60,
   "metadata": {
    "collapsed": true
   },
   "outputs": [
    {
     "name": "stdout",
     "output_type": "stream",
     "text": [
      "1: [[-0.09257879  1.56181505 -0.1254231  -0.14348318]\n [ 1.45351534  0.24328424 -0.84388476  0.82593908]\n [-0.4767379  -0.66855922 -0.70047639 -0.03091558]\n [-1.54818195 -0.35469788  0.04521816 -1.48054601]\n [ 0.92431207 -1.76824769  0.97856629 -2.12647417]\n [-1.70214038 -0.7692129  -0.58455551  0.09693126]\n [-2.47787929 -0.87206049  1.49754132  0.99457648]]\n2: [-0.1254231   0.04521816]\n3: [-0.84388476 -0.70047639  0.97856629 -0.58455551  1.49754132]\n4: [-0.1254231   0.04521816  0.97856629]\n5: [[0.         1.56181505 0.         0.        ]\n [1.45351534 0.24328424 0.         0.82593908]\n [0.         0.         0.         0.        ]\n [0.         0.         0.04521816 0.        ]\n [0.92431207 0.         0.97856629 0.        ]\n [0.         0.         0.         0.09693126]\n [0.         0.         1.49754132 0.99457648]]\n6: [[0.         1.56181505 7.         0.        ]\n [1.45351534 0.24328424 0.         0.82593908]\n [0.         0.         0.         0.        ]\n [0.         0.         7.         0.        ]\n [0.92431207 0.         7.         0.        ]\n [0.         0.         0.         0.09693126]\n [0.         0.         1.49754132 0.99457648]]\n"
     ]
    }
   ],
   "source": [
    "# Mix indexing\n",
    "names = np.array(['Bob', 'Joe', 'Joe', 'Bob', 'Will', 'Joe', 'Joe'])\n",
    "data = np.random.randn(7, 4)\n",
    "print('1:', data)\n",
    "print('2:', data[names == 'Bob', 2])\n",
    "print('3:', data[names != 'Bob', 2])\n",
    "print('4:', data[(names == 'Bob') | (names == 'Will'), 2])\n",
    "# Setting values with Bolean arrays\n",
    "data[data < 0] = 0\n",
    "print('5:', data)\n",
    "data[names != 'Joe', 2] = 7\n",
    "print('6:', data)"
   ]
  },
  {
   "cell_type": "code",
   "execution_count": 72,
   "metadata": {},
   "outputs": [
    {
     "name": "stdout",
     "output_type": "stream",
     "text": [
      "1: [[0. 0. 0. 0.]\n [1. 1. 1. 1.]\n [2. 2. 2. 2.]\n [3. 3. 3. 3.]\n [4. 4. 4. 4.]\n [5. 5. 5. 5.]\n [6. 6. 6. 6.]\n [7. 7. 7. 7.]]\n2: [[6. 6. 6. 6.]\n [0. 0. 0. 0.]\n [3. 3. 3. 3.]\n [1. 1. 1. 1.]]\n3 [[5. 5. 5. 5.]\n [3. 3. 3. 3.]\n [1. 1. 1. 1.]]\n4: [[ 0  1  2  3]\n [ 4  5  6  7]\n [ 8  9 10 11]\n [12 13 14 15]\n [16 17 18 19]\n [20 21 22 23]\n [24 25 26 27]\n [28 29 30 31]]\n5: [ 4 23 29 10]\n6: [[ 4  7  5  6]\n [20 23 21 22]\n [28 31 29 30]\n [ 8 11  9 10]]\n"
     ]
    }
   ],
   "source": [
    "# Fancy Indexing\n",
    "data = np.empty((8, 4))\n",
    "for x in range(8):\n",
    "    data[x] = x\n",
    "print('1:', data)\n",
    "print('2:', data[[6, 0, 3, 1]])\n",
    "print('3', data[[-3, -5, -7]])\n",
    "data = np.arange(32).reshape((8, 4))\n",
    "print('4:', data)\n",
    "print('5:', data[[1, 5, 7, 2], [0, 3, 1, 2]])\n",
    "print('6:', data[[1, 5, 7, 2]][:, [0, 3, 1, 2]])"
   ]
  },
  {
   "cell_type": "code",
   "execution_count": 76,
   "metadata": {},
   "outputs": [
    {
     "name": "stdout",
     "output_type": "stream",
     "text": [
      "[[0 1 2]\n [3 4 5]\n [6 7 8]]\n[[  5  14  23]\n [ 14  50  86]\n [ 23  86 149]]\n"
     ]
    }
   ],
   "source": [
    "# Transponse\n",
    "arr = np.arange(9).reshape((3, 3))\n",
    "print(arr)\n",
    "print(np.dot(arr, arr.T))"
   ]
  },
  {
   "cell_type": "code",
   "execution_count": null,
   "metadata": {},
   "outputs": [],
   "source": []
  }
 ],
 "metadata": {
  "kernelspec": {
   "display_name": "Python 2",
   "language": "python",
   "name": "python2"
  },
  "language_info": {
   "codemirror_mode": {
    "name": "ipython",
    "version": 2
   },
   "file_extension": ".py",
   "mimetype": "text/x-python",
   "name": "python",
   "nbconvert_exporter": "python",
   "pygments_lexer": "ipython2",
   "version": "2.7.6"
  }
 },
 "nbformat": 4,
 "nbformat_minor": 0
}
