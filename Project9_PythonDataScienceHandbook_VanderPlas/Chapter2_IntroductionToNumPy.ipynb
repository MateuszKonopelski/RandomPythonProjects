{
 "cells": [
  {
   "cell_type": "code",
   "execution_count": 2,
   "metadata": {
    "collapsed": true
   },
   "outputs": [],
   "source": [
    "# set up environment\n",
    "import numpy as np"
   ]
  },
  {
   "cell_type": "code",
   "execution_count": 4,
   "metadata": {},
   "outputs": [
    {
     "name": "stdout",
     "output_type": "stream",
     "text": [
      "[[2 3 4]\n [4 5 6]\n [6 7 8]]\n"
     ]
    }
   ],
   "source": [
    "arr1 = np.array([range(i, i + 3) for i in [2, 4, 6]])\n",
    "print(arr1)"
   ]
  },
  {
   "cell_type": "code",
   "execution_count": 29,
   "metadata": {
    "collapsed": true
   },
   "outputs": [
    {
     "name": "stdout",
     "output_type": "stream",
     "text": [
      "[0 0 0 0 0 0 0 0 0 0]\n[[1. 1. 1. 1. 1.]\n [1. 1. 1. 1. 1.]\n [1. 1. 1. 1. 1.]]\n[[3.14 3.14 3.14 3.14 3.14]\n [3.14 3.14 3.14 3.14 3.14]\n [3.14 3.14 3.14 3.14 3.14]]\n[ 0  2  4  6  8 10 12 14 16 18]\n[0.   0.25 0.5  0.75 1.  ]\n[[0.64078473 0.73611064 0.94208347]\n [0.04020064 0.87989618 0.96535885]\n [0.93871317 0.23291737 0.93558008]]\n[[-0.27603745 -1.05040579  0.23427608]\n [ 0.7839172   1.20584358  1.23734226]\n [ 1.02048749 -0.05288287 -0.18399344]]\n[[-0.28119239  0.03891919 -0.6814195 ]\n [ 0.69182654 -0.51565771  0.58687182]\n [ 0.55457213 -0.89024379  1.166893  ]]\n[[8 3 4]\n [1 9 7]\n [3 1 6]]\n[[1. 0. 0.]\n [0. 1. 0.]\n [0. 0. 1.]]\n"
     ]
    }
   ],
   "source": [
    "arr1 = np.zeros(10, dtype=int)\n",
    "arr2 = np.ones((3, 5), dtype=float)\n",
    "arr3 = np.full((3, 5), 3.14)        # whole arrays filled with 3.14\n",
    "arr4 = np.arange(0, 20, 2)          # between 0 and 20, by 2\n",
    "arr5 = np.linspace(0, 1, 5)         # 5 values evenly spaced\n",
    "arr6 = np.random.random((3, 3))     # random numbers between 0-1\n",
    "arr7 = np.random.normal(0, 1, (3, 3))   # random numbers with mean = 0 & sd=1\n",
    "arr8 = np.random.standard_normal((3, 3))    \n",
    "arr9 = np.random.randint(0, 10, (3, 3)) # random integers <1,10)\n",
    "arr10 = np.eye(3)                           # identity matrix\n",
    "\n",
    "for x in range(1, 20): \n",
    "    try:\n",
    "        print(eval('arr' + str(x)), end='\\n')\n",
    "    except NameError:\n",
    "        pass"
   ]
  },
  {
   "cell_type": "code",
   "execution_count": 56,
   "metadata": {},
   "outputs": [
    {
     "name": "stdout",
     "output_type": "stream",
     "text": [
      "arr1 \t|ndim: 1 \t|shape: (10,) \t|size: 10 \t|dtype: int32 \t|itemsize: 4 bytes \t|nbytes: 40 bytes\narr2 \t|ndim: 2 \t|shape: (3, 4) \t|size: 12 \t|dtype: int32 \t|itemsize: 4 bytes \t|nbytes: 48 bytes\narr3 \t|ndim: 3 \t|shape: (3, 4, 5) \t|size: 60 \t|dtype: int32 \t|itemsize: 4 bytes \t|nbytes: 240 bytes\n"
     ]
    }
   ],
   "source": [
    "# Array attributes\n",
    "np.random.seed(0)       # seed (freeze) for reproductivity\n",
    "arr1 = np.random.randint(10, size=10)\n",
    "arr2 = np.random.randint(10, size=(3, 4))\n",
    "arr3 = np.random.randint(10, size=(3, 4, 5))\n",
    "for i in range(1, 4):\n",
    "    array = eval('arr'+str(i))\n",
    "    print('arr'+str(i), '\\t|ndim:', array.ndim, '\\t|shape:', array.shape, '\\t|size:', array.size, '\\t|dtype:', array.dtype, \n",
    "          '\\t|itemsize:', array.itemsize, 'bytes', '\\t|nbytes:', array.nbytes, 'bytes')"
   ]
  },
  {
   "cell_type": "code",
   "execution_count": 57,
   "metadata": {},
   "outputs": [
    {
     "name": "stdout",
     "output_type": "stream",
     "text": [
      "[[7 6 8 8]\n [1 6 7 7]\n [8 1 5 9]]\n0,0: 7\n2,0: 8\n2,-1: 9\n[[99  6  8  8]\n [ 1  6  7  7]\n [ 8  1  5  9]]\n"
     ]
    }
   ],
   "source": [
    "# Indexing\n",
    "print(arr2)\n",
    "print('0,0:', arr2[0, 0])\n",
    "print('2,0:', arr2[2, 0])\n",
    "print('2,-1:', arr2[2, -1])\n",
    "arr2[0, 0] = 99\n",
    "print(arr2)"
   ]
  },
  {
   "cell_type": "code",
   "execution_count": 76,
   "metadata": {},
   "outputs": [
    {
     "name": "stdout",
     "output_type": "stream",
     "text": [
      "[5 0 3 3 7 9 3 5 2 4]\n[4 2 5 3 9 7 3 3 0 5]\n\n[[99  6  8  8]\n [ 1  6  7  7]\n [ 8  1  5  9]]\n[[99  6  8]\n [ 1  6  7]]\n\n[[99  8]\n [ 1  7]\n [ 8  5]]\n\n[[ 9  5  1  8]\n [ 7  7  6  1]\n [ 8  8  6 99]]\n\n[[99  6  8  8]\n [ 1  6  7  7]\n [ 8  1  5  9]]\n[8 7 5]\n[1 6 7 7]\n"
     ]
    }
   ],
   "source": [
    "print(arr1, arr1[::-1], sep='\\n')\n",
    "print('', arr2, arr2[:2, :3], sep='\\n')\n",
    "print('', arr2[:3, ::2], sep='\\n')\n",
    "print('', arr2[::-1, ::-1], sep='\\n')     # reversed order of full matrix\n",
    "print('', arr2, arr2[:, 2], arr2[1, :], sep='\\n')            # only 3rd column, only 2nd row"
   ]
  },
  {
   "cell_type": "code",
   "execution_count": 80,
   "metadata": {},
   "outputs": [
    {
     "name": "stdout",
     "output_type": "stream",
     "text": [
      "[[0 6 8 8]\n [1 6 7 7]\n [8 1 5 9]]\n[[0 6 8 8]\n [1 6 7 7]\n [8 1 5 9]]\n[[0 6 8 8]\n [1 6 7 7]\n [8 1 5 9]]\n"
     ]
    }
   ],
   "source": [
    "# how array views works\n",
    "print(arr2)\n",
    "sub_x2 = arr2[:2, :2]\n",
    "sub_x2[0, 0] = 0       # it is view of arr2\n",
    "print(arr2)\n",
    "# what happens when we copy\n",
    "sub_x2 = arr2[:2, :2].copy()\n",
    "sub_x2[0, 0] = 99\n",
    "print(arr2)"
   ]
  },
  {
   "cell_type": "code",
   "execution_count": 92,
   "metadata": {},
   "outputs": [
    {
     "name": "stdout",
     "output_type": "stream",
     "text": [
      "[[1 2 3]\n [4 5 6]\n [7 8 9]]\n"
     ]
    }
   ],
   "source": [
    "a = 3\n",
    "arr2 = np.arange(1, a ** 2 + 1).reshape((a, a))\n",
    "print(arr2)"
   ]
  },
  {
   "cell_type": "code",
   "execution_count": 94,
   "metadata": {},
   "outputs": [
    {
     "name": "stdout",
     "output_type": "stream",
     "text": [
      "[[1 2 3]]\n[[1 2 3]]\n[[1]\n [2]\n [3]]\n[[1]\n [2]\n [3]]\n"
     ]
    }
   ],
   "source": [
    "# reshape using newaxis method\n",
    "arr1 = np.array([1, 2, 3])\n",
    "print(arr1.reshape(1, 3))\n",
    "print(arr1[np.newaxis, :])\n",
    "print(arr1.reshape(3, 1))\n",
    "print(arr1[:, np.newaxis])"
   ]
  },
  {
   "cell_type": "code",
   "execution_count": null,
   "metadata": {},
   "outputs": [],
   "source": []
  }
 ],
 "metadata": {
  "kernelspec": {
   "display_name": "Python 2",
   "language": "python",
   "name": "python2"
  },
  "language_info": {
   "codemirror_mode": {
    "name": "ipython",
    "version": 2
   },
   "file_extension": ".py",
   "mimetype": "text/x-python",
   "name": "python",
   "nbconvert_exporter": "python",
   "pygments_lexer": "ipython2",
   "version": "2.7.6"
  }
 },
 "nbformat": 4,
 "nbformat_minor": 0
}
