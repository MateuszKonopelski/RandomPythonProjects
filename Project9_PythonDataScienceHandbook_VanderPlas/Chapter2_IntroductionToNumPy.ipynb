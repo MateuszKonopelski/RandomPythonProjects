{
 "cells": [
  {
   "cell_type": "code",
   "execution_count": 2,
   "metadata": {
    "collapsed": true
   },
   "outputs": [],
   "source": [
    "# set up environment\n",
    "import numpy as np"
   ]
  },
  {
   "cell_type": "code",
   "execution_count": 4,
   "metadata": {},
   "outputs": [
    {
     "name": "stdout",
     "output_type": "stream",
     "text": [
      "[[2 3 4]\n [4 5 6]\n [6 7 8]]\n"
     ]
    }
   ],
   "source": [
    "arr1 = np.array([range(i, i + 3) for i in [2, 4, 6]])\n",
    "print(arr1)"
   ]
  },
  {
   "cell_type": "code",
   "execution_count": 29,
   "metadata": {
    "collapsed": true
   },
   "outputs": [
    {
     "name": "stdout",
     "output_type": "stream",
     "text": [
      "[0 0 0 0 0 0 0 0 0 0]\n[[1. 1. 1. 1. 1.]\n [1. 1. 1. 1. 1.]\n [1. 1. 1. 1. 1.]]\n[[3.14 3.14 3.14 3.14 3.14]\n [3.14 3.14 3.14 3.14 3.14]\n [3.14 3.14 3.14 3.14 3.14]]\n[ 0  2  4  6  8 10 12 14 16 18]\n[0.   0.25 0.5  0.75 1.  ]\n[[0.64078473 0.73611064 0.94208347]\n [0.04020064 0.87989618 0.96535885]\n [0.93871317 0.23291737 0.93558008]]\n[[-0.27603745 -1.05040579  0.23427608]\n [ 0.7839172   1.20584358  1.23734226]\n [ 1.02048749 -0.05288287 -0.18399344]]\n[[-0.28119239  0.03891919 -0.6814195 ]\n [ 0.69182654 -0.51565771  0.58687182]\n [ 0.55457213 -0.89024379  1.166893  ]]\n[[8 3 4]\n [1 9 7]\n [3 1 6]]\n[[1. 0. 0.]\n [0. 1. 0.]\n [0. 0. 1.]]\n"
     ]
    }
   ],
   "source": [
    "arr1 = np.zeros(10, dtype=int)\n",
    "arr2 = np.ones((3, 5), dtype=float)\n",
    "arr3 = np.full((3, 5), 3.14)        # whole arrays filled with 3.14\n",
    "arr4 = np.arange(0, 20, 2)          # between 0 and 20, by 2\n",
    "arr5 = np.linspace(0, 1, 5)         # 5 values evenly spaced\n",
    "arr6 = np.random.random((3, 3))     # random numbers between 0-1\n",
    "arr7 = np.random.normal(0, 1, (3, 3))   # random numbers with mean = 0 & sd=1\n",
    "arr8 = np.random.standard_normal((3, 3))    \n",
    "arr9 = np.random.randint(0, 10, (3, 3)) # random integers <1,10)\n",
    "arr10 = np.eye(3)                           # identity matrix\n",
    "\n",
    "for x in range(1, 20): \n",
    "    try:\n",
    "        print(eval('arr' + str(x)), end='\\n')\n",
    "    except NameError:\n",
    "        pass"
   ]
  },
  {
   "cell_type": "code",
   "execution_count": 56,
   "metadata": {},
   "outputs": [
    {
     "name": "stdout",
     "output_type": "stream",
     "text": [
      "arr1 \t|ndim: 1 \t|shape: (10,) \t|size: 10 \t|dtype: int32 \t|itemsize: 4 bytes \t|nbytes: 40 bytes\narr2 \t|ndim: 2 \t|shape: (3, 4) \t|size: 12 \t|dtype: int32 \t|itemsize: 4 bytes \t|nbytes: 48 bytes\narr3 \t|ndim: 3 \t|shape: (3, 4, 5) \t|size: 60 \t|dtype: int32 \t|itemsize: 4 bytes \t|nbytes: 240 bytes\n"
     ]
    }
   ],
   "source": [
    "# Array attributes\n",
    "np.random.seed(0)       # seed (freeze) for reproductivity\n",
    "arr1 = np.random.randint(10, size=10)\n",
    "arr2 = np.random.randint(10, size=(3, 4))\n",
    "arr3 = np.random.randint(10, size=(3, 4, 5))\n",
    "for i in range(1, 4):\n",
    "    array = eval('arr'+str(i))\n",
    "    print('arr'+str(i), '\\t|ndim:', array.ndim, '\\t|shape:', array.shape, '\\t|size:', array.size, '\\t|dtype:', array.dtype, \n",
    "          '\\t|itemsize:', array.itemsize, 'bytes', '\\t|nbytes:', array.nbytes, 'bytes')"
   ]
  },
  {
   "cell_type": "code",
   "execution_count": 57,
   "metadata": {},
   "outputs": [
    {
     "name": "stdout",
     "output_type": "stream",
     "text": [
      "[[7 6 8 8]\n [1 6 7 7]\n [8 1 5 9]]\n0,0: 7\n2,0: 8\n2,-1: 9\n[[99  6  8  8]\n [ 1  6  7  7]\n [ 8  1  5  9]]\n"
     ]
    }
   ],
   "source": [
    "# Indexing\n",
    "print(arr2)\n",
    "print('0,0:', arr2[0, 0])\n",
    "print('2,0:', arr2[2, 0])\n",
    "print('2,-1:', arr2[2, -1])\n",
    "arr2[0, 0] = 99\n",
    "print(arr2)"
   ]
  },
  {
   "cell_type": "code",
   "execution_count": 76,
   "metadata": {},
   "outputs": [
    {
     "name": "stdout",
     "output_type": "stream",
     "text": [
      "[5 0 3 3 7 9 3 5 2 4]\n[4 2 5 3 9 7 3 3 0 5]\n\n[[99  6  8  8]\n [ 1  6  7  7]\n [ 8  1  5  9]]\n[[99  6  8]\n [ 1  6  7]]\n\n[[99  8]\n [ 1  7]\n [ 8  5]]\n\n[[ 9  5  1  8]\n [ 7  7  6  1]\n [ 8  8  6 99]]\n\n[[99  6  8  8]\n [ 1  6  7  7]\n [ 8  1  5  9]]\n[8 7 5]\n[1 6 7 7]\n"
     ]
    }
   ],
   "source": [
    "print(arr1, arr1[::-1], sep='\\n')\n",
    "print('', arr2, arr2[:2, :3], sep='\\n')\n",
    "print('', arr2[:3, ::2], sep='\\n')\n",
    "print('', arr2[::-1, ::-1], sep='\\n')     # reversed order of full matrix\n",
    "print('', arr2, arr2[:, 2], arr2[1, :], sep='\\n')            # only 3rd column, only 2nd row"
   ]
  },
  {
   "cell_type": "code",
   "execution_count": 80,
   "metadata": {},
   "outputs": [
    {
     "name": "stdout",
     "output_type": "stream",
     "text": [
      "[[0 6 8 8]\n [1 6 7 7]\n [8 1 5 9]]\n[[0 6 8 8]\n [1 6 7 7]\n [8 1 5 9]]\n[[0 6 8 8]\n [1 6 7 7]\n [8 1 5 9]]\n"
     ]
    }
   ],
   "source": [
    "# how array views works\n",
    "print(arr2)\n",
    "sub_x2 = arr2[:2, :2]\n",
    "sub_x2[0, 0] = 0       # it is view of arr2\n",
    "print(arr2)\n",
    "# what happens when we copy\n",
    "sub_x2 = arr2[:2, :2].copy()\n",
    "sub_x2[0, 0] = 99\n",
    "print(arr2)"
   ]
  },
  {
   "cell_type": "code",
   "execution_count": 92,
   "metadata": {},
   "outputs": [
    {
     "name": "stdout",
     "output_type": "stream",
     "text": [
      "[[1 2 3]\n [4 5 6]\n [7 8 9]]\n"
     ]
    }
   ],
   "source": [
    "a = 3\n",
    "arr2 = np.arange(1, a ** 2 + 1).reshape((a, a))\n",
    "print(arr2)"
   ]
  },
  {
   "cell_type": "code",
   "execution_count": 94,
   "metadata": {},
   "outputs": [
    {
     "name": "stdout",
     "output_type": "stream",
     "text": [
      "[[1 2 3]]\n[[1 2 3]]\n[[1]\n [2]\n [3]]\n[[1]\n [2]\n [3]]\n"
     ]
    }
   ],
   "source": [
    "# reshape using newaxis method\n",
    "arr1 = np.array([1, 2, 3])\n",
    "print(arr1.reshape(1, 3))\n",
    "print(arr1[np.newaxis, :])\n",
    "print(arr1.reshape(3, 1))\n",
    "print(arr1[:, np.newaxis])"
   ]
  },
  {
   "cell_type": "code",
   "execution_count": 105,
   "metadata": {},
   "outputs": [
    {
     "name": "stdout",
     "output_type": "stream",
     "text": [
      "[1 2 3 4 5 6 7 8 9]\n[[1 2 3]\n [4 5 6]\n [7 8 9]\n [1 2 3]\n [4 5 6]\n [7 8 9]\n [1 2 3]\n [4 5 6]\n [7 8 9]]\n[[1 2 3 1 2 3 1 2 3]\n [4 5 6 4 5 6 4 5 6]\n [7 8 9 7 8 9 7 8 9]]\n----------\n[[1 2 3]\n [4 5 6]\n [7 8 9]]\n[[1 4 5 6]\n [2 7 8 9]]\n"
     ]
    }
   ],
   "source": [
    "arr1 = np.array([1, 2, 3])\n",
    "arr2 = np.array([4, 5, 6])\n",
    "arr3 = np.array([7, 8, 9])\n",
    "print(np.concatenate([arr1, arr2, arr3]))\n",
    "arr4 = np.array([[1, 2, 3], \n",
    "                 [4, 5, 6], \n",
    "                 [7, 8, 9]])\n",
    "print(np.concatenate([arr4, arr4, arr4]), end='\\n')\n",
    "print(np.concatenate([arr4, arr4, arr4], axis=1))\n",
    "#\n",
    "print('-'*10)\n",
    "arr1 = np.array([1, 2, 3])\n",
    "arr2 = np.array([[1],\n",
    "                 [2]])\n",
    "arr3 = np.array([[4, 5, 6],\n",
    "                [7, 8, 9]])\n",
    "print(np.vstack([arr1, arr3]))\n",
    "print(np.hstack([arr2, arr3]))"
   ]
  },
  {
   "cell_type": "code",
   "execution_count": 109,
   "metadata": {},
   "outputs": [
    {
     "name": "stdout",
     "output_type": "stream",
     "text": [
      "[ 0  1  2  3  4  5  6  9 10 11 12 13 14 15]\n[array([0, 1]), array([ 2,  3,  4,  5,  6,  9, 10, 11, 12, 13, 14, 15])]\n[array([0, 1]), array([2, 3]), array([ 4,  5,  6,  9, 10, 11, 12, 13, 14, 15])]\n----------\n[[ 1  2  3  4]\n [ 5  6  7  8]\n [ 9 10 11 12]\n [13 14 15 16]]\n[[1 2 3 4]\n [5 6 7 8]]\n[[ 9 10 11 12]\n [13 14 15 16]]\n[[ 1  2]\n [ 5  6]\n [ 9 10]\n [13 14]]\n[[ 3  4]\n [ 7  8]\n [11 12]\n [15 16]]\n"
     ]
    }
   ],
   "source": [
    "arr1 = np.array([0, 1, 2, 3, 4, 5, 6, 9, 10, 11, 12, 13, 14, 15])\n",
    "print(arr1)\n",
    "print(np.split(arr1, [2]))\n",
    "print(np.split(arr1, [2, 4]))\n",
    "# different method\n",
    "print('-'*10)\n",
    "arr2 = np.arange(1, 17).reshape(4, 4)\n",
    "print(arr2)\n",
    "upper, lower = np.vsplit(arr2, [2])\n",
    "left, right = np.hsplit(arr2, [2])\n",
    "print(upper, lower, left, right, sep='\\n')"
   ]
  },
  {
   "cell_type": "code",
   "execution_count": 119,
   "metadata": {},
   "outputs": [
    {
     "name": "stdout",
     "output_type": "stream",
     "text": [
      "arr1   =\t [ 0  1  2  3  4  5  6  7  8  9 10]\narr1+4 =\t [ 4  5  6  7  8  9 10 11 12 13 14]\narr1*4 =\t [ 0  4  8 12 16 20 24 28 32 36 40]\narr1-4 =\t [-4 -3 -2 -1  0  1  2  3  4  5  6]\narr1/4 =\t [0.   0.25 0.5  0.75 1.   1.25 1.5  1.75 2.   2.25 2.5 ]\narr1**4=\t [  0   1   4   9  16  25  36  49  64  81 100]\narr1//2=\t [0 0 1 1 2 2 3 3 4 4 5]\n-arr1  =\t [  0  -1  -2  -3  -4  -5  -6  -7  -8  -9 -10]\narr1%2 =\t [0 1 0 1 0 1 0 1 0 1 0]\nabs(-arr1)=\t [ 0  1  2  3  4  5  6  7  8  9 10]\n(arr1 ** 2) - 2 * arr1 + 1/arr1=\n [        inf  0.          0.5         3.33333333  8.25       15.2\n 24.16666667 35.14285714 48.125      63.11111111 80.1       ]\n"
     ]
    },
    {
     "name": "stderr",
     "output_type": "stream",
     "text": [
      "C:\\Users\\Lenovo\\AppData\\Roaming\\Python\\Python36\\site-packages\\ipykernel_launcher.py:13: RuntimeWarning: divide by zero encountered in true_divide\n  del sys.path[0]\n"
     ]
    }
   ],
   "source": [
    "arr1 = np.arange(11)\n",
    "print('arr1   =\\t', arr1)\n",
    "print('arr1+4 =\\t', arr1 + 4)\n",
    "print('arr1*4 =\\t', arr1*4)\n",
    "print('arr1-4 =\\t', arr1 - 4)\n",
    "print('arr1/4 =\\t', arr1/4)\n",
    "print('arr1**4=\\t', arr1 ** 2)\n",
    "print('arr1//2=\\t', arr1//2)\n",
    "print('-arr1  =\\t', -arr1)\n",
    "print('arr1%2 =\\t', arr1 % 2)\n",
    "print('abs(-arr1)=\\t', np.abs(-arr1))\n",
    "# Also can be used in the middle of formula\n",
    "print('(arr1 ** 2) - 2 * arr1 + 1/arr1=\\n', (arr1 ** 2) - 2 * arr1 + 1/arr1)\n"
   ]
  },
  {
   "cell_type": "code",
   "execution_count": 120,
   "metadata": {},
   "outputs": [
    {
     "name": "stdout",
     "output_type": "stream",
     "text": [
      "[0.0000000e+00 1.0000000e+00 1.2246468e-16]\n[ 1.000000e+00  6.123234e-17 -1.000000e+00]\n[ 0.00000000e+00  1.63312394e+16 -1.22464680e-16]\n[ 0. nan nan]\n[1.57079633        nan        nan]\n[0.         1.00388482 1.26262726]\n"
     ]
    }
   ],
   "source": [
    "# Trygonometric functions\n",
    "theta = np.linspace(0, np.pi, 3)\n",
    "print(np.sin(theta))\n",
    "print(np.cos(theta))\n",
    "print(np.tan(theta))\n",
    "print(np.arcsin(theta))\n",
    "print(np.arccos(theta))\n",
    "print(np.arctan(theta))"
   ]
  },
  {
   "cell_type": "code",
   "execution_count": 123,
   "metadata": {
    "collapsed": false
   },
   "outputs": [
    {
     "name": "stdout",
     "output_type": "stream",
     "text": [
      "[ 1  2  3  4  5  6  7  8  9 10]\n[2.71828183e+00 7.38905610e+00 2.00855369e+01 5.45981500e+01\n 1.48413159e+02 4.03428793e+02 1.09663316e+03 2.98095799e+03\n 8.10308393e+03 2.20264658e+04]\n[   2.    4.    8.   16.   32.   64.  128.  256.  512. 1024.]\n[    3     9    27    81   243   729  2187  6561 19683 59049]\n[0.         0.69314718 1.09861229 1.38629436 1.60943791 1.79175947\n 1.94591015 2.07944154 2.19722458 2.30258509]\n[0.         1.         1.5849625  2.         2.32192809 2.5849625\n 2.80735492 3.         3.169925   3.32192809]\n[0.         0.30103    0.47712125 0.60205999 0.69897    0.77815125\n 0.84509804 0.90308999 0.95424251 1.        ]\n"
     ]
    }
   ],
   "source": [
    "# Exponential functions\n",
    "arr1 = np.arange(1, 11)\n",
    "print(arr1)\n",
    "print(np.exp(arr1))\n",
    "print(np.exp2(arr1))\n",
    "print(np.power(3, arr1))\n",
    "print(np.log(arr1))\n",
    "print(np.log2(arr1))\n",
    "print(np.log10(arr1))"
   ]
  },
  {
   "cell_type": "code",
   "execution_count": 172,
   "metadata": {
    "collapsed": true
   },
   "outputs": [
    {
     "name": "stdout",
     "output_type": "stream",
     "text": [
      "[  0. 100. 200. 300. 400. 500. 600. 700. 800. 900.]\n[100. 121. 144. 169. 196. 225. 256. 289. 324. 361.]\n"
     ]
    }
   ],
   "source": [
    "# Spcyfying output\n",
    "arr1 = np.arange(100)\n",
    "arr2 = np.zeros(10)\n",
    "arr3 = np.zeros(10)\n",
    "np.multiply(arr1[:10], 100, out=arr2)\n",
    "np.power(arr1[10:20], 2, out=arr3)\n",
    "print(arr2, arr3, sep='\\n')"
   ]
  },
  {
   "cell_type": "code",
   "execution_count": 179,
   "metadata": {},
   "outputs": [
    {
     "name": "stdout",
     "output_type": "stream",
     "text": [
      "55\n[ 1  3  6 10 15 21 28 36 45 55]\n3628800\n[      1       2       6      24     120     720    5040   40320  362880\n 3628800]\n[[  1   2   3   4   5   6   7   8   9  10]\n [  2   4   6   8  10  12  14  16  18  20]\n [  3   6   9  12  15  18  21  24  27  30]\n [  4   8  12  16  20  24  28  32  36  40]\n [  5  10  15  20  25  30  35  40  45  50]\n [  6  12  18  24  30  36  42  48  54  60]\n [  7  14  21  28  35  42  49  56  63  70]\n [  8  16  24  32  40  48  56  64  72  80]\n [  9  18  27  36  45  54  63  72  81  90]\n [ 10  20  30  40  50  60  70  80  90 100]]\n"
     ]
    }
   ],
   "source": [
    "# Aggregates\n",
    "arr1 = np.arange(1, 11)\n",
    "print(np.add.reduce(arr1))\n",
    "print(np.add.accumulate(arr1))\n",
    "print(np.multiply.reduce(arr1))\n",
    "print(np.multiply.accumulate(arr1))\n",
    "print(np.multiply.outer(arr1, arr1))"
   ]
  },
  {
   "cell_type": "code",
   "execution_count": 188,
   "metadata": {},
   "outputs": [
    {
     "name": "stdout",
     "output_type": "stream",
     "text": [
      "49.53653567722382\n0.03855724605899835 0.9804856634690068\n[2.09418553 2.90175571 2.18148028 2.59276112]\n[2.23828847 2.10720605 3.01067754 2.41401058]\n"
     ]
    }
   ],
   "source": [
    "# Built in aggregations\n",
    "arr1 = np.random.rand(100)\n",
    "print(np.sum(arr1))         # using numpy built in func is better than python built in. \n",
    "print(np.min(arr1), np.max(arr1))\n",
    "arr2 = np.random.random((4, 4))\n",
    "print(np.sum(arr2, axis=0))         # sum of each column\n",
    "print(np.sum(arr2, axis=1))         # sum of each row"
   ]
  },
  {
   "cell_type": "code",
   "execution_count": 197,
   "metadata": {
    "collapsed": true
   },
   "outputs": [
    {
     "name": "stdout",
     "output_type": "stream",
     "text": [
      "[       nan 0.90789846 0.70905081 0.61527643 0.79249891 0.83564604\n 0.483459   0.88118825 0.91641901 0.2715511 ]\n6.412987992860012\n0.0278086519119115\n0.7125542214288902\n0.2071349609402756\n0.04290489204372949\n0.2715510954247814\n0.9164190107011054\n0.7924989056089166\n0.3563142565232782\n"
     ]
    }
   ],
   "source": [
    "# Available Aggregation functions in numPy\n",
    "arr = np.random.rand(10)\n",
    "arr[0] = np.NaN\n",
    "arr1 = np.nansum(arr)\n",
    "arr2 = np.nanprod(arr)\n",
    "arr3 = np.nanmean(arr)\n",
    "arr4 = np.nanstd(arr)\n",
    "arr5 = np.nanvar(arr)\n",
    "arr6 = np.nanmin(arr)\n",
    "arr7 = np.nanmax(arr)\n",
    "arr8 = np.nanmedian(arr)\n",
    "arr9 = np.nanpercentile(arr, 5)\n",
    "print(arr)\n",
    "for i in range(1, 10):\n",
    "    print(eval('arr'+str(i)))"
   ]
  },
  {
   "cell_type": "code",
   "execution_count": 203,
   "metadata": {},
   "outputs": [
    {
     "name": "stdout",
     "output_type": "stream",
     "text": [
      "[189 170 189 163 183 171 185 168 173 183 173 173 175 178 183 193 178 173\n 174 183 183 168 170 178 182 180 183 178 182 188 175 179 183 193 182 183\n 177 185 188 188 182 185 188]\n"
     ]
    }
   ],
   "source": [
    "import pandas as pd\n",
    "data = pd.read_csv('C:\\\\Users\\\\Lenovo\\\\PycharmProjects\\\\RandomPythonProjects\\\\Project9_PythonDataScienceHandbook_VanderPlas\\\\\\data\\\\president_heights_new.csv')\n",
    "heights = np.array(data['height(cm)'])\n",
    "print(heights)"
   ]
  },
  {
   "cell_type": "code",
   "execution_count": 205,
   "metadata": {},
   "outputs": [
    {
     "name": "stdout",
     "output_type": "stream",
     "text": [
      "Mean height: 179.93023255813952\nSt dev of heights: 6.963009736965726\nMin height: 163\nMax height: 193\n25th percentile: 174.5\nMedian height: 182.0\n75th percentile: 184.0\n"
     ]
    }
   ],
   "source": [
    "# Heights Summary:\n",
    "print('Mean height:', heights.mean())\n",
    "print('St dev of heights:', heights.std())\n",
    "print('Min height:', heights.min())\n",
    "print('Max height:', heights.max())\n",
    "print('25th percentile:', np.percentile(heights, 25))\n",
    "print('Median height:', np.median(heights))\n",
    "print('75th percentile:', np.percentile(heights, 75))"
   ]
  },
  {
   "cell_type": "code",
   "execution_count": 206,
   "metadata": {},
   "outputs": [],
   "source": [
    "%matplotlib inline"
   ]
  },
  {
   "cell_type": "code",
   "execution_count": 207,
   "metadata": {},
   "outputs": [],
   "source": [
    "import matplotlib.pyplot as plt\n",
    "import seaborn; seaborn.set()       # set plot style"
   ]
  },
  {
   "cell_type": "code",
   "execution_count": 208,
   "metadata": {},
   "outputs": [
    {
     "data": {
      "text/plain": [
       "Text(0,0.5,'number')"
      ]
     },
     "execution_count": 208,
     "metadata": {},
     "output_type": "execute_result"
    },
    {
     "data": {
      "image/png": "[encoded data removed]",
      "text/plain": [
       "<Figure size 432x288 with 1 Axes>"
      ]
     },
     "metadata": {},
     "output_type": "display_data"
    }
   ],
   "source": [
    "plt.hist(heights)\n",
    "plt.title('Height distirbution of US presidents')\n",
    "plt.xlabel('height (cm)')\n",
    "plt.ylabel('number')\n",
    "\n"
   ]
  },
  {
   "cell_type": "code",
   "execution_count": 225,
   "metadata": {},
   "outputs": [
    {
     "name": "stdout",
     "output_type": "stream",
     "text": [
      "[[1. 1. 1.]\n [1. 1. 1.]]\n[0 1 2]\n[[1. 2. 3.]\n [1. 2. 3.]]\nM+a: operands could not be broadcast together with shapes (2,3) (2,) \n----------\n[[0]\n [1]\n [2]]\n[0 1 2]\n[[0 1 2]\n [1 2 3]\n [2 3 4]]\n"
     ]
    }
   ],
   "source": [
    "# Broadcasting (adding matrixes of different sizes)\n",
    "M = np.ones((2, 3))\n",
    "print(M)\n",
    "a = np.arange(3)\n",
    "print(a)\n",
    "print(M+a)\n",
    "a = np.arange(2)\n",
    "try:\n",
    "    print(M+a)\n",
    "except ValueError:\n",
    "    print('M+a: operands could not be broadcast together with shapes (2,3) (2,) ')\n",
    "print('-'*10)\n",
    "arr1 = np.arange(3).reshape((3, 1))\n",
    "arr2 = np.arange(3)\n",
    "print(arr1, arr2, arr1 + arr2, sep='\\n')"
   ]
  },
  {
   "cell_type": "code",
   "execution_count": 234,
   "metadata": {},
   "outputs": [
    {
     "name": "stdout",
     "output_type": "stream",
     "text": [
      "[[ 0.22268066 -0.3834039   0.07133766]\n [-0.053305    0.23550038  0.4061678 ]\n [ 0.29633297  0.35671629 -0.46156199]\n [-0.16334304  0.0224595  -0.07855412]\n [-0.24228359 -0.18509949  0.45092353]\n [-0.17935766 -0.13906948 -0.49079767]\n [ 0.37153909 -0.33813289 -0.29036316]\n [-0.21827402  0.39164847 -0.28805603]\n [ 0.32398782  0.31507575  0.43251313]\n [-0.35797723 -0.27569462  0.24839085]]\n[2.22044605e-17 1.11022302e-17 1.11022302e-17]\n"
     ]
    },
    {
     "data": {
      "text/plain": [
       "<matplotlib.colorbar.Colorbar at 0xbebb4f0>"
      ]
     },
     "execution_count": 234,
     "metadata": {},
     "output_type": "execute_result"
    },
    {
     "data": {
      "image/png": "[encoded data removed]",
      "text/plain": [
       "<Figure size 432x288 with 2 Axes>"
      ]
     },
     "metadata": {},
     "output_type": "display_data"
    }
   ],
   "source": [
    "# Broadcasting in practice\n",
    "# Centering\n",
    "arr2 = np.random.random((10, 3))\n",
    "arr2_mean = arr2.mean(0)                                # mean of each column\n",
    "arr2_centered = arr2 - arr2_mean\n",
    "print(arr2_centered, arr2_centered.mean(0), sep='\\n')   # the mean should be 0\n",
    "# Plotting two dimensional function\n",
    "x = np.linspace(0, 5, 50)\n",
    "y = np.linspace(0, 5, 50)[:, np.newaxis]\n",
    "z = np.sin(x) ** 10 + np.cos(10 + y * x) * np.cos(x)\n",
    "plt.imshow(z, origin='lower', extent=[0, 5, 0, 5], cmap='viridis')\n",
    "plt.colorbar()"
   ]
  },
  {
   "cell_type": "code",
   "execution_count": 256,
   "metadata": {},
   "outputs": [
    {
     "name": "stdout",
     "output_type": "stream",
     "text": [
      "Days with rain =  100\nDays without rain = 250\nDays with small rain =  45\nDays with big rain =  55\n"
     ]
    },
    {
     "data": {
      "image/png": "[encoded data removed]",
      "text/plain": [
       "<Figure size 432x288 with 1 Axes>"
      ]
     },
     "metadata": {},
     "output_type": "display_data"
    }
   ],
   "source": [
    "arr1 = np.zeros(250)\n",
    "arr2 = np.random.random(100)\n",
    "arr = np.hstack([arr1, arr2])\n",
    "plt.hist(arr, 40)\n",
    "print('Days with rain = ', np.sum(arr > 0))\n",
    "print('Days without rain =', np.sum(arr == 0))\n",
    "print('Days with small rain = ', np.sum((arr > 0) & (arr < 0.5)))\n",
    "print('Days with big rain = ', np.sum(arr >= 0.5))"
   ]
  },
  {
   "cell_type": "code",
   "execution_count": 259,
   "metadata": {},
   "outputs": [
    {
     "name": "stdout",
     "output_type": "stream",
     "text": [
      "[[False  True False  True False]\n [ True False  True False  True]\n [False  True False  True False]\n [ True False  True False  True]\n [False  True False  True False]\n [ True False  True False  True]\n [False  True False  True False]\n [ True False  True False  True]\n [False  True False  True False]\n [ True False  True False  True]]\n25\n25\n[5 5 5 5 5]\n[2 3 2 3 2 3 2 3 2 3]\n[ True  True  True  True  True]\n[False False False False False]\n20\n[ 2  4  6  8 10 12 14 16 18 20 22 24 26 28 30 32 34 36 38 40 42 44 46 48\n 50]\n[20 21 22 23 24 25 26 27 28 29 30]\n"
     ]
    }
   ],
   "source": [
    "# Arrays comparisons\n",
    "arr1 = np.arange(1, 51).reshape((10, 5))\n",
    "arr2 = arr1 % 2 == 0 \n",
    "print(arr2)\n",
    "print(np.count_nonzero(arr2))\n",
    "print(np.sum(arr2))\n",
    "print(np.sum(arr2, axis=0))     # Count True in columns\n",
    "print(np.sum(arr2, axis=1))     # Count True in rows\n",
    "print(np.any(arr2, axis=0))     # Are any of True in columns\n",
    "print(np.all(arr2, axis=0))     # Are all of True in rows\n",
    "print(np.sum(((arr1 > 25) & (arr1 < 45)) | (arr1 == 10)))\n",
    "# Boolean Arrays as Masks\n",
    "print(arr1[arr2])\n",
    "print(arr1[(arr1 >= 20) & (arr1 <= 30)])"
   ]
  },
  {
   "cell_type": "code",
   "execution_count": 280,
   "metadata": {},
   "outputs": [
    {
     "name": "stdout",
     "output_type": "stream",
     "text": [
      "[71, 20, 86]\n[71 20 86]\n[[92 14]\n [71 60]]\n[[ 0  1  2  3]\n [ 4  5  6  7]\n [ 8  9 10 11]]\n[2 5 8]\n[11 10  9  8]\n[[5 4]\n [9 8]]\n[[ 0  2]\n [ 4  6]\n [ 8 10]]\n[[ 0  2]\n [ 4  6]\n [ 8 10]]\n"
     ]
    }
   ],
   "source": [
    "# Fancy Indexing\n",
    "rand = np.random.RandomState(42)\n",
    "arr1 = rand.randint(100, size=10)\n",
    "print([arr1[3], arr1[5], arr1[7]])   # One way of accessing 3, 5, 7 element\n",
    "print(arr1[[3, 5, 7]])                 # Better way \n",
    "ind = np.array([[1, 2],\n",
    "                [3, 4]])\n",
    "print(arr1[ind])                    # The shape of result is shape of ind\n",
    "# Bigger dimensions\n",
    "arr2 = np.arange(12).reshape((3, 4))\n",
    "row = np.array([0, 1, 2])\n",
    "col = np.array([2, 1, 0])\n",
    "print(arr2, arr2[row, col], sep='\\n')   # pairs row & col are like x & y dim,\n",
    "                                        # so first pair (0,2) is looking for row=0, col=2 element\n",
    "                                        # in matrix arr2\n",
    "# Combined indexes \n",
    "print(arr2[2, [3, 2, 1, 0]])\n",
    "print(arr2[1:, [1, 0]])\n",
    "mask = np.array([1, 0, 1, 0], dtype=np.bool)\n",
    "print(arr2[row[:, np.newaxis], mask])\n",
    "print(arr2[:, mask])"
   ]
  },
  {
   "cell_type": "code",
   "execution_count": 287,
   "metadata": {},
   "outputs": [
    {
     "data": {
      "image/png": "[encoded data removed]",
      "text/plain": [
       "<Figure size 432x288 with 1 Axes>"
      ]
     },
     "metadata": {},
     "output_type": "display_data"
    }
   ],
   "source": [
    "# Selecting random points\n",
    "mean = [0, 0]\n",
    "cov = [[1, 2],\n",
    "       [2, 5]]\n",
    "arr2 = rand.multivariate_normal(mean, cov, 100)\n",
    "plt.scatter(arr2[:, 0], arr2[:, 1])\n",
    "indices = np.random.choice(arr2.shape[0], 20, replace=False)\n",
    "selection = arr2[indices]\n",
    "plt.scatter(selection[:, 0], selection[:, 1], \n",
    "            facecolor='none', s=200)"
   ]
  },
  {
   "cell_type": "code",
   "execution_count": 301,
   "metadata": {},
   "outputs": [
    {
     "name": "stdout",
     "output_type": "stream",
     "text": [
      "[ 0 89  2  3 89  5 89 89  8  9 10]\n[0. 1. 0. 0. 3. 0. 1. 1. 0. 0.]\n"
     ]
    }
   ],
   "source": [
    "# Modifying values fancy indexing \n",
    "arr1 = np.arange(11)\n",
    "indices = np.array([1, 4, 4, 4, 6, 7])\n",
    "arr1[indices] = 99\n",
    "arr1[indices] -= 10\n",
    "print(arr1)\n",
    "# add.at\n",
    "arr1 = np.zeros(10)\n",
    "np.add.at(arr1, indices, 1)\n",
    "print(arr1)"
   ]
  },
  {
   "cell_type": "code",
   "execution_count": 309,
   "metadata": {},
   "outputs": [
    {
     "data": {
      "text/plain": [
       "(array([ 0.,  0.,  0.,  0.,  0.,  2.,  5., 13., 15., 22., 22., 14.,  6.,\n         0.,  1.,  0.,  0.,  0.,  0.]),\n array([-3.        , -2.47368421, -1.94736842, -1.42105263, -0.89473684,\n        -0.36842105,  0.15789474,  0.68421053,  1.21052632,  1.73684211,\n         2.26315789,  2.78947368,  3.31578947,  3.84210526,  4.36842105,\n         4.89473684,  5.42105263,  5.94736842,  6.47368421,  7.        ]),\n <a list of 19 Patch objects>)"
      ]
     },
     "execution_count": 309,
     "metadata": {},
     "output_type": "execute_result"
    },
    {
     "data": {
      "image/png": "[encoded data removed]",
      "text/plain": [
       "<Figure size 432x288 with 1 Axes>"
      ]
     },
     "metadata": {},
     "output_type": "display_data"
    }
   ],
   "source": [
    "# Binning data\n",
    "x = np.random.randn(100)\n",
    "bins = np.linspace(-5, 5, 20)\n",
    "counts = np.zeros_like(bins)\n",
    "# find appropriate bin for each in x\n",
    "i = np.searchsorted(bins, x)\n",
    "# Add to empty matrix counts  one each time i is mentioned\n",
    "np.add.at(counts, i, 1)\n",
    "plt.plot(bins, counts, linestyle='steps')\n",
    "plt.hist(x + 2, bins + 2)"
   ]
  },
  {
   "cell_type": "code",
   "execution_count": 321,
   "metadata": {},
   "outputs": [
    {
     "name": "stdout",
     "output_type": "stream",
     "text": [
      "[1, 3, 4, 5, 7, 8, 9, 10]\n[1, 3, 4, 5, 7, 8, 9, 10]\n"
     ]
    }
   ],
   "source": [
    "lista = [5, 7, 3, 4, 1, 8, 9, 10]\n",
    "srt_lista = []\n",
    "# slection sort\n",
    "for x in range(len(lista)):\n",
    "    local_min = min(lista)\n",
    "    srt_lista.append(local_min)\n",
    "    del lista[lista.index(local_min)]\n",
    "\n",
    "lista = [5, 7, 3, 4, 1, 8, 9, 10]\n",
    "for i in range(len(lista)):\n",
    "    swap = i + np.argmin(lista[i:])\n",
    "    (lista[i], lista[swap]) = (lista[swap], lista[i])\n",
    "print(srt_lista)\n",
    "print(lista)"
   ]
  },
  {
   "cell_type": "code",
   "execution_count": 329,
   "metadata": {},
   "outputs": [
    {
     "name": "stdout",
     "output_type": "stream",
     "text": [
      "[ 1  3  4  5  7  8  9 10]\n[ 1  3  4  5  7  8  9 10]\n[ 1  3  4  5  7  8  9 10]\n"
     ]
    }
   ],
   "source": [
    "# Numpy built-in sorting algorithms\n",
    "arr1 = np.array([5, 7, 3, 4, 1, 8, 9, 10])\n",
    "print(np.sort(arr1))\n",
    "arr1.sort()\n",
    "print(arr1)\n",
    "# Argsort\n",
    "arr1 = np.array([5, 7, 3, 4, 1, 8, 9, 10])\n",
    "i = np.argsort(arr1)\n",
    "print(arr1[i])"
   ]
  },
  {
   "cell_type": "code",
   "execution_count": 330,
   "metadata": {},
   "outputs": [
    {
     "name": "stdout",
     "output_type": "stream",
     "text": [
      "[[6 3 7 4 6 9]\n [2 6 7 4 3 7]\n [7 2 5 4 1 7]\n [5 1 4 0 9 5]]\n[[2 1 4 0 1 5]\n [5 2 5 4 3 7]\n [6 3 7 4 6 7]\n [7 6 7 4 9 9]]\n[[3 4 6 6 7 9]\n [2 3 4 6 7 7]\n [1 2 4 5 7 7]\n [0 1 4 5 5 9]]\n"
     ]
    }
   ],
   "source": [
    "# Sort in multi dimensions matrix\n",
    "rand = np.random.RandomState(42)\n",
    "arr2 = rand.randint(0, 10, (4, 6))\n",
    "print(arr2)\n",
    "print(np.sort(arr2, axis=0))\n",
    "print(np.sort(arr2, axis=1))"
   ]
  },
  {
   "cell_type": "code",
   "execution_count": 334,
   "metadata": {},
   "outputs": [
    {
     "name": "stdout",
     "output_type": "stream",
     "text": [
      "[1 3 2]\n"
     ]
    }
   ],
   "source": [
    "# K smallest values\n",
    "arr1 = np.array([4, 9, 2, 1, 5, 6, 7, 8, 9, 3])\n",
    "print(np.partition(arr1, 3)[:3])"
   ]
  },
  {
   "cell_type": "code",
   "execution_count": 345,
   "metadata": {},
   "outputs": [
    {
     "data": {
      "image/png": "[encoded data removed]",
      "text/plain": [
       "<Figure size 432x288 with 1 Axes>"
      ]
     },
     "metadata": {},
     "output_type": "display_data"
    }
   ],
   "source": [
    "# k-nearest neighbours\n",
    "X = rand.rand(10, 2)\n",
    "plt.scatter(X[:, 0], X[:, 1], s=100)\n",
    "difference = X[:, np.newaxis, :] - X[np.newaxis, :, :]\n",
    "sq_difference = difference ** 2\n",
    "dist_sq = sq_difference.sum(-1)\n",
    "nearest = np.argsort(dist_sq, axis=1)\n",
    "K = 2\n",
    "nearest_partition = np.argpartition(dist_sq, K + 1, axis=1)\n",
    "for i in range(X.shape[0]):\n",
    "    for j in nearest_partition[i, :K + 1]:\n",
    "        plt.plot(*zip(X[j], X[i]), color='black')"
   ]
  },
  {
   "cell_type": "code",
   "execution_count": 365,
   "metadata": {},
   "outputs": [
    {
     "name": "stdout",
     "output_type": "stream",
     "text": [
      "name : ['Alice' 'Bob' 'Cathy' 'Doug']\nage : [25 24 37 19]\nweight : [55.  85.5 68.  61.5]\n['Alice' 'Bob' 'Doug']\n"
     ]
    }
   ],
   "source": [
    "# Structured data\n",
    "name = ['Alice', 'Bob', 'Cathy', 'Doug']\n",
    "age = [25, 24, 37, 19]\n",
    "weight = [55.0, 85.5, 68.0, 61.5]\n",
    "# compund data type\n",
    "data = np.zeros(4, dtype={'names': ('name', 'age', 'weight'),\n",
    "                          'formats': ('U10', 'i4', 'f8')})\n",
    "# same but different style:\n",
    "data = np.zeros(4, dtype=np.dtype([('name', (np.str_, 10)),\n",
    "                                   ('age', np.int),\n",
    "                                   ('weight', np.float32)]))\n",
    "# Fill the array with list of values:\n",
    "data['name'] = name\n",
    "data['age'] = age\n",
    "data['weight'] = weight\n",
    "\n",
    "for x in ['name', 'age', 'weight']:\n",
    "    print(x, ':', data[x])\n",
    "\n",
    "print(data[data['age'] < 30]['name'])"
   ]
  },
  {
   "cell_type": "code",
   "execution_count": 352,
   "metadata": {},
   "outputs": [],
   "source": []
  },
  {
   "cell_type": "code",
   "execution_count": null,
   "metadata": {},
   "outputs": [],
   "source": []
  }
 ],
 "metadata": {
  "kernelspec": {
   "display_name": "Python 2",
   "language": "python",
   "name": "python2"
  },
  "language_info": {
   "codemirror_mode": {
    "name": "ipython",
    "version": 2
   },
   "file_extension": ".py",
   "mimetype": "text/x-python",
   "name": "python",
   "nbconvert_exporter": "python",
   "pygments_lexer": "ipython2",
   "version": "2.7.6"
  }
 },
 "nbformat": 4,
 "nbformat_minor": 0
}
