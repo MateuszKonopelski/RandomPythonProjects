{
 "cells": [
  {
   "cell_type": "markdown",
   "metadata": {
    "collapsed": true
   },
   "source": [
    "#WHISKY IS GOD\n",
    "\n",
    "##This program is recommending new whisky based on your favourite one.\n",
    "\n",
    "***The database consists of 109 single malts and 5 features which describe them.***\n",
    "\n",
    "----------------------------------------------------------------------\n",
    "\n",
    "Thomas fav one is: ***Lagavulin***; therefore using K-nearest Neighbours Classifier the best recommendation will be: Laphroaig\n",
    "\n",
    "----------------------------------------------------------------------\n"
   ]
  },
  {
   "cell_type": "code",
   "execution_count": 3,
   "metadata": {},
   "outputs": [],
   "source": [
    "# set up env\n",
    "import pandas as pd\n",
    "from sklearn.neighbors import KNeighborsClassifier"
   ]
  },
  {
   "cell_type": "code",
   "execution_count": 15,
   "metadata": {},
   "outputs": [],
   "source": [
    "# import data:\n",
    "dir = 'C:\\\\Users\\\\Lenovo\\\\PycharmProjects\\\\RandomPythonProjects\\\\Project10_Whisky\\\\ScotchData\\\\Scotch data (Windows)\\\\'\n",
    "file = 'scotch.xlsx'\n",
    "data = pd.read_excel(dir + file, sheet_name='scotch.xls', header=0)"
   ]
  },
  {
   "cell_type": "code",
   "execution_count": 172,
   "metadata": {},
   "outputs": [
    {
     "name": "stdout",
     "output_type": "stream",
     "text": [
      "__________________________________________________________________________________________ \n\nAVAILABLE WHISKY IN DATA SET\n __________________________________________________________________________________________ \n\nA :\t ['Aberfeldy', 'Aberlour', 'Ardberg', 'Ardmore', 'Auchentoshan', 'Aultmore']\nB :\t ['Balblair', 'Balmenach', 'Balvenie', 'Banff', 'Ben Nevis', 'Benriach', 'Benrinnes', 'Benromach', 'Bladnoch', 'Blair Athol', 'Bowmore', 'Brackla', 'Bruichladdich', 'Bunnahabhain']\nC :\t ['Caol Ila', 'Caperdonich', 'Cardhu', 'Clynelish', 'Coleburn', 'Convalmore', 'Cragganmore', 'Craigellachie']\nD :\t ['Dailuaine', 'Dallas Dhu', 'Dalmore', 'Dalwhinnie', 'Deanston', 'Dufftown']\nE :\t ['Edradour']\nF :\t ['Fettercairn']\nG :\t ['Glen  Albyn', 'Glenallachie', 'Glenburgie', 'Glencadam', 'Glen Deveron', 'Glendronach', 'Glendullan', 'Glen Elgin', 'Glenesk', 'Glenfarclas', 'Glenfiddich', 'Glen Garioch', 'Glenglassaugh', 'Glengoyne', 'Glen Grant', 'Glen Keith', 'Glenkinchie', 'Glenlivet', 'Glenlochy', 'Glenlossie', 'Glen Mhor', 'Glenmorangie', 'Glen Moray', 'Glen Ordie', 'Glenrothes', 'Glen Scotia', 'Glen Spey', 'Glentauchers', 'Glenturret', 'Glenugie', 'Glenury Royal']\nH :\t ['Highland Park']\nI :\t ['Imperial', 'Inchgower', 'Inchmurrin', 'Inverleven']\nJ :\t ['Jura']\nK :\t ['Kinclaith', 'Knockando', 'Knockdhu']\nL :\t ['Ladyburn', 'Lagavulin', 'Laphroaig', 'Linkwood', 'Littlemill', 'Lochnagar', 'Lochside', 'Longmorn']\nM :\t ['Macallan', 'Millburn', 'Miltonduff', 'Mortlach']\nN :\t ['North Port']\nO :\t ['Oban']\nP :\t ['Port Ellen', 'Pulteney']\nR :\t ['Rosebank']\nS :\t ['Saint Magdalene', 'Scapa', 'Singleton', 'Speyburn', 'Springbank', 'Springbank-Longrow', 'Strathisla']\nT :\t ['Talisker', 'Tamdhu', 'Tamnavulin', 'Teaninich', 'Tobermory', 'Tomatin', 'Tomintoul', 'Tormore', 'Tullibardine']\n__________________________________________________________________________________________\n"
     ]
    }
   ],
   "source": [
    "# whisky db\n",
    "print('_'*90, '\\n\\nAVAILABLE WHISKY IN DATA SET\\n', '_'*90, '\\n')\n",
    "for letter in data.full_name.str[0].unique():\n",
    "        print(letter, ':\\t', [element for element in list(data.full_name) if element.startswith(letter)])\n",
    "print('_'*90)"
   ]
  },
  {
   "cell_type": "code",
   "execution_count": 169,
   "metadata": {},
   "outputs": [
    {
     "name": "stdout",
     "output_type": "stream",
     "text": [
      "______________________________________________________________________\n\nTaking into cosideration 5 distinct Whisky characteristics,\nMost recommended scotch (based on Lagavulin) are:\n______________________________________________________________________\n"
     ]
    },
    {
     "data": {
      "text/html": [
       "<div>\n",
       "<style scoped>\n",
       "    .dataframe tbody tr th:only-of-type {\n",
       "        vertical-align: middle;\n",
       "    }\n",
       "\n",
       "    .dataframe tbody tr th {\n",
       "        vertical-align: top;\n",
       "    }\n",
       "\n",
       "    .dataframe thead th {\n",
       "        text-align: right;\n",
       "    }\n",
       "</style>\n",
       "<table border=\"1\" class=\"dataframe\">\n",
       "  <thead>\n",
       "    <tr style=\"text-align: right;\">\n",
       "      <th></th>\n",
       "      <th>full_name</th>\n",
       "      <th>_AGE</th>\n",
       "      <th>_REGION</th>\n",
       "      <th>Closest</th>\n",
       "    </tr>\n",
       "  </thead>\n",
       "  <tbody>\n",
       "    <tr>\n",
       "      <th>78</th>\n",
       "      <td>Laphroaig</td>\n",
       "      <td>10.0</td>\n",
       "      <td>ISLAY</td>\n",
       "      <td>3.872983</td>\n",
       "    </tr>\n",
       "    <tr>\n",
       "      <th>76</th>\n",
       "      <td>Ladyburn</td>\n",
       "      <td>20.0</td>\n",
       "      <td>LOW</td>\n",
       "      <td>4.472136</td>\n",
       "    </tr>\n",
       "    <tr>\n",
       "      <th>79</th>\n",
       "      <td>Linkwood</td>\n",
       "      <td>12.0</td>\n",
       "      <td>HIGH</td>\n",
       "      <td>4.690416</td>\n",
       "    </tr>\n",
       "    <tr>\n",
       "      <th>75</th>\n",
       "      <td>Knockdhu</td>\n",
       "      <td>-9.0</td>\n",
       "      <td>HIGH</td>\n",
       "      <td>4.795832</td>\n",
       "    </tr>\n",
       "    <tr>\n",
       "      <th>80</th>\n",
       "      <td>Littlemill</td>\n",
       "      <td>8.0</td>\n",
       "      <td>LOW</td>\n",
       "      <td>5.477226</td>\n",
       "    </tr>\n",
       "  </tbody>\n",
       "</table>\n",
       "</div>"
      ],
      "text/plain": [
       "<div>\n",
       "<style scoped>\n",
       "    .dataframe tbody tr th:only-of-type {\n",
       "        vertical-align: middle;\n",
       "    }\n",
       "\n",
       "    .dataframe tbody tr th {\n",
       "        vertical-align: top;\n",
       "    }\n",
       "\n",
       "    .dataframe thead th {\n",
       "        text-align: right;\n",
       "    }\n",
       "</style>\n",
       "<table border=\"1\" class=\"dataframe\">\n",
       "  <thead>\n",
       "    <tr style=\"text-align: right;\">\n",
       "      <th></th>\n",
       "      <th>full_name</th>\n",
       "      <th>_AGE</th>\n",
       "      <th>_REGION</th>\n",
       "      <th>Closest</th>\n",
       "    </tr>\n",
       "  </thead>\n",
       "  <tbody>\n",
       "    <tr>\n",
       "      <th>78</th>\n",
       "      <td>Laphroaig</td>\n",
       "      <td>10.0</td>\n",
       "      <td>ISLAY</td>\n",
       "      <td>3.872983</td>\n",
       "    </tr>\n",
       "    <tr>\n",
       "      <th>76</th>\n",
       "      <td>Ladyburn</td>\n",
       "      <td>20.0</td>\n",
       "      <td>LOW</td>\n",
       "      <td>4.472136</td>\n",
       "    </tr>\n",
       "    <tr>\n",
       "      <th>79</th>\n",
       "      <td>Linkwood</td>\n",
       "      <td>12.0</td>\n",
       "      <td>HIGH</td>\n",
       "      <td>4.690416</td>\n",
       "    </tr>\n",
       "    <tr>\n",
       "      <th>75</th>\n",
       "      <td>Knockdhu</td>\n",
       "      <td>-9.0</td>\n",
       "      <td>HIGH</td>\n",
       "      <td>4.795832</td>\n",
       "    </tr>\n",
       "    <tr>\n",
       "      <th>80</th>\n",
       "      <td>Littlemill</td>\n",
       "      <td>8.0</td>\n",
       "      <td>LOW</td>\n",
       "      <td>5.477226</td>\n",
       "    </tr>\n",
       "  </tbody>\n",
       "</table>\n",
       "</div>"
      ]
     },
     "execution_count": 169,
     "metadata": {},
     "output_type": "execute_result"
    }
   ],
   "source": [
    "data['id'] = data.index + 1\n",
    "knn_columns = ['full_name', 'short_name', '_AGE', '_DIST', '_SCORE', '_%', '_REGION', '_DISTRICT',\n",
    "       '_islay', '_midland', '_spey', '_east', '_west', '_north ', '_lowland',\n",
    "       '_campbell', '_islands']\n",
    "X_train = data.drop(knn_columns, axis=1)\n",
    "y_train = data['id']\n",
    "X_test = data.query('full_name == \"Lagavulin\"').drop(knn_columns, axis=1)\n",
    "knn = KNeighborsClassifier(n_neighbors=3)\n",
    "knn.fit(X_train, y_train)\n",
    "distance, indeces = knn.kneighbors(X_test, 6)\n",
    "print('_'*70, '\\nTaking into cosideration 5 distinct Whisky characteristics,',\n",
    "              'Most recommended scotch (based on Lagavulin) are:', '_'*70, sep='\\n')\n",
    "pd.concat([data.iloc[indeces[0], [0, -16, -12]], \n",
    "           pd.Series(distance[0], index=[77, 78, 76, 79, 75, 80], name='Closest')], axis=1).iloc[1:, :]\n"
   ]
  },
  {
   "cell_type": "code",
   "execution_count": null,
   "metadata": {},
   "outputs": [],
   "source": []
  }
 ],
 "metadata": {
  "kernelspec": {
   "display_name": "Python 2",
   "language": "python",
   "name": "python2"
  },
  "language_info": {
   "codemirror_mode": {
    "name": "ipython",
    "version": 2
   },
   "file_extension": ".py",
   "mimetype": "text/x-python",
   "name": "python",
   "nbconvert_exporter": "python",
   "pygments_lexer": "ipython2",
   "version": "2.7.6"
  }
 },
 "nbformat": 4,
 "nbformat_minor": 0
}
