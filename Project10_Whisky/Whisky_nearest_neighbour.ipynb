{
 "cells": [
  {
   "cell_type": "markdown",
   "metadata": {
    "collapsed": true
   },
   "source": [
    "#WHISKY IS GOD\n",
    "\n",
    "##This program is recommending new whisky based on your favourite one.\n",
    "\n",
    "***The database consists of 109 single malts and 5 features which describe them.***\n",
    "\n",
    "----------------------------------------------------------------------\n",
    "\n",
    "Thomas fav one is: ***Lagavulin***; therefore using K-nearest Neighbours Classifier the best recommendation will be: Laphroaig\n",
    "\n",
    "----------------------------------------------------------------------\n"
   ]
  },
  {
   "cell_type": "code",
   "execution_count": 176,
   "metadata": {},
   "outputs": [],
   "source": [
    "# set up env\n",
    "import pandas as pd\n",
    "import zipfile\n",
    "from sklearn.neighbors import NearestNeighbors\n"
   ]
  },
  {
   "cell_type": "code",
   "execution_count": 276,
   "metadata": {
    "collapsed": true
   },
   "outputs": [],
   "source": [
    "# import data:\n",
    "httml = 'http://adn.biol.umontreal.ca/~numericalecology/labo/Scotch/ScotchData.zip'\n",
    "\n",
    "import pandas as pd\n",
    "import requests, zipfile, io\n",
    "\n",
    "req = requests.get(httml)\n",
    "archive = zipfile.ZipFile(io.BytesIO(req.content))\n",
    "\n",
    "columns=['full_name', 'short_name', 'color_wyne', 'color_yellow', 'color_v.pale',\n",
    "       'color_pale', 'color_p.gold', 'color_gold', 'color_o.gold',\n",
    "       'color_f.gold', 'color_bronze', 'color_p.amber', 'color_amber',\n",
    "       'color_f.amber', 'color_red', 'color_sherry', 'NOSE_AROMA', 'NOSE_PEAT',\n",
    "       'NOSE_SWEET', 'NOSE_LIGHT', 'NOSE_FRESH', 'NOSE_DRY', 'NOSE_FRUIT',\n",
    "       'NOSE_GRASS', 'NOSE_SEA', 'NOSE_SHERRY', 'NOSE_SPICY', 'NOSE_RICH',\n",
    "       'BODY_soft', 'BODY_med', 'BODY_full', 'BODY_round', 'BODY_smooth',\n",
    "       'BODY_light', 'BODY_firm', 'BODY_oily', 'PAL_full', 'PAL_dry',\n",
    "       'PAL_sherry', 'PAL_big', 'PAL_light', 'PAL_smooth', 'PAL_clean',\n",
    "       'PAL_fruit', 'PAL_grass', 'PAL_smoke', 'PAL_sweet', 'PAL_spice',\n",
    "       'PAL_oil', 'PAL_salt', 'PAL_arome', 'FIN_full', 'FIN_dry', 'FIN_warm',\n",
    "       'FIN_big', 'FIN_light', 'FIN_smooth', 'FIN_clean', 'FIN_fruit',\n",
    "       'FIN_grass', 'FIN_smoke', 'FIN_sweet', 'FIN_spice', 'FIN_oil',\n",
    "       'FIN_salt', 'FIN_arome', 'FIN_ling', 'FIN_long', 'FIN_very',\n",
    "       'FIN_quick', '_AGE', '_DIST', '_SCORE', '_%', '_REGION', '_DISTRICT',\n",
    "       '_islay', '_midland', '_spey', '_east', '_west', '_north ', '_lowland',\n",
    "       '_campbell', '_islands']\n",
    "data = pd.read_excel(archive.open('ScotchData/Scotch data (Windows)/scotch.xlsx'), \n",
    "                     skiprows=[0, 1],  header=None, names=columns)\n",
    "data.dropna(axis=0, inplace=True)"
   ]
  },
  {
   "cell_type": "code",
   "execution_count": 294,
   "metadata": {
    "collapsed": true
   },
   "outputs": [
    {
     "name": "stdout",
     "output_type": "stream",
     "text": [
      "Feature :\t Atributes\ncolor :\t ['wyne', 'yellow', 'v.pale', 'pale', 'p.gold', 'gold', 'o.gold', 'f.gold', 'bronze', 'p.amber', 'amber', 'f.amber', 'red', 'sherry']\nNOSE :\t ['aroma', 'peat', 'sweet', 'light', 'fresh', 'dry', 'fruit', 'grass', 'sea', 'sherry', 'spicy', 'rich']\nBODY :\t ['soft', 'med', 'full', 'round', 'smooth', 'light', 'firm', 'oily']\nPAL :\t ['full', 'dry', 'sherry', 'big', 'light', 'smooth', 'clean', 'fruit', 'grass', 'smoke', 'sweet', 'spice', 'oil', 'salt', 'arome']\nFIN :\t ['full', 'dry', 'warm', 'big', 'light', 'smooth', 'clean', 'fruit', 'grass', 'smoke', 'sweet', 'spice', 'oil', 'salt', 'arome', 'ling', 'long', 'very', 'quick']\n"
     ]
    }
   ],
   "source": [
    "dict = {'Feature': 'Atributes'}\n",
    "for type in ['color', 'NOSE', 'BODY', 'PAL', 'FIN']:\n",
    "    col_names = [col for col in data.columns if col.startswith(type)]\n",
    "    dict[type] = [col.replace(type + '_', '').lower() for col in col_names]\n",
    "for key, value in dict.items():\n",
    "    print(key, ':\\t', value)"
   ]
  },
  {
   "cell_type": "code",
   "execution_count": 277,
   "metadata": {
    "collapsed": false
   },
   "outputs": [
    {
     "name": "stdout",
     "output_type": "stream",
     "text": [
      "__________________________________________________________________________________________ \n\nAVAILABLE WHISKY IN DATA SET\n __________________________________________________________________________________________ \n\nA :\t ['Aberfeldy', 'Aberlour', 'Ardberg', 'Ardmore', 'Auchentoshan', 'Aultmore']\nB :\t ['Balblair', 'Balmenach', 'Balvenie', 'Banff', 'Ben Nevis', 'Benriach', 'Benrinnes', 'Benromach', 'Bladnoch', 'Blair Athol', 'Bowmore', 'Brackla', 'Bruichladdich', 'Bunnahabhain']\nC :\t ['Caol Ila', 'Caperdonich', 'Cardhu', 'Clynelish', 'Coleburn', 'Convalmore', 'Cragganmore', 'Craigellachie']\nD :\t ['Dailuaine', 'Dallas Dhu', 'Dalmore', 'Dalwhinnie', 'Deanston', 'Dufftown']\nE :\t ['Edradour']\nF :\t ['Fettercairn']\nG :\t ['Glen  Albyn', 'Glenallachie', 'Glenburgie', 'Glencadam', 'Glen Deveron', 'Glendronach', 'Glendullan', 'Glen Elgin', 'Glenesk', 'Glenfarclas', 'Glenfiddich', 'Glen Garioch', 'Glenglassaugh', 'Glengoyne', 'Glen Grant', 'Glen Keith', 'Glenkinchie', 'Glenlivet', 'Glenlochy', 'Glenlossie', 'Glen Mhor', 'Glenmorangie', 'Glen Moray', 'Glen Ordie', 'Glenrothes', 'Glen Scotia', 'Glen Spey', 'Glentauchers', 'Glenturret', 'Glenugie', 'Glenury Royal']\nH :\t ['Highland Park']\nI :\t ['Imperial', 'Inchgower', 'Inchmurrin', 'Inverleven']\nJ :\t ['Jura']\nK :\t ['Kinclaith', 'Knockando', 'Knockdhu']\nL :\t ['Ladyburn', 'Lagavulin', 'Laphroaig', 'Linkwood', 'Littlemill', 'Lochnagar', 'Lochside', 'Longmorn']\nM :\t ['Macallan', 'Millburn', 'Miltonduff', 'Mortlach']\nN :\t ['North Port']\nO :\t ['Oban']\nP :\t ['Port Ellen', 'Pulteney']\nR :\t ['Rosebank']\nS :\t ['Saint Magdalene', 'Scapa', 'Singleton', 'Speyburn', 'Springbank', 'Springbank-Longrow', 'Strathisla']\nT :\t ['Talisker', 'Tamdhu', 'Tamnavulin', 'Teaninich', 'Tobermory', 'Tomatin', 'Tomintoul', 'Tormore', 'Tullibardine']\n__________________________________________________________________________________________\n"
     ]
    }
   ],
   "source": [
    "# whisky db\n",
    "print('_'*90, '\\n\\nAVAILABLE WHISKY IN DATA SET\\n', '_'*90, '\\n')\n",
    "for letter in data.full_name.str[0].unique():\n",
    "        print(letter, ':\\t', [element for element in list(data.full_name) if element.startswith(letter)])\n",
    "print('_'*90)"
   ]
  },
  {
   "cell_type": "code",
   "execution_count": 208,
   "metadata": {
    "collapsed": true
   },
   "outputs": [
    {
     "name": "stdout",
     "output_type": "stream",
     "text": [
      "______________________________________________________________________\n\nTaking into cosideration 5 distinct Whisky characteristics,\nMost recommended scotch (based on Bunnahabhain) are:\n______________________________________________________________________\n"
     ]
    },
    {
     "data": {
      "text/html": [
       "<div>\n",
       "<style scoped>\n",
       "    .dataframe tbody tr th:only-of-type {\n",
       "        vertical-align: middle;\n",
       "    }\n",
       "\n",
       "    .dataframe tbody tr th {\n",
       "        vertical-align: top;\n",
       "    }\n",
       "\n",
       "    .dataframe thead th {\n",
       "        text-align: right;\n",
       "    }\n",
       "</style>\n",
       "<table border=\"1\" class=\"dataframe\">\n",
       "  <thead>\n",
       "    <tr style=\"text-align: right;\">\n",
       "      <th></th>\n",
       "      <th>full_name</th>\n",
       "      <th>_AGE</th>\n",
       "      <th>_REGION</th>\n",
       "      <th>Closest</th>\n",
       "    </tr>\n",
       "  </thead>\n",
       "  <tbody>\n",
       "    <tr>\n",
       "      <th>19</th>\n",
       "      <td>Bunnahabhain</td>\n",
       "      <td>12.0</td>\n",
       "      <td>ISLAY</td>\n",
       "      <td>0.000000</td>\n",
       "    </tr>\n",
       "    <tr>\n",
       "      <th>18</th>\n",
       "      <td>Bruichladdich</td>\n",
       "      <td>10.0</td>\n",
       "      <td>ISLAY</td>\n",
       "      <td>3.316625</td>\n",
       "    </tr>\n",
       "    <tr>\n",
       "      <th>20</th>\n",
       "      <td>Caol Ila</td>\n",
       "      <td>12.0</td>\n",
       "      <td>ISLAY</td>\n",
       "      <td>4.000000</td>\n",
       "    </tr>\n",
       "    <tr>\n",
       "      <th>21</th>\n",
       "      <td>Caperdonich</td>\n",
       "      <td>-9.0</td>\n",
       "      <td>HIGH</td>\n",
       "      <td>4.000000</td>\n",
       "    </tr>\n",
       "    <tr>\n",
       "      <th>17</th>\n",
       "      <td>Brackla</td>\n",
       "      <td>-9.0</td>\n",
       "      <td>HIGH</td>\n",
       "      <td>4.358899</td>\n",
       "    </tr>\n",
       "    <tr>\n",
       "      <th>16</th>\n",
       "      <td>Bowmore</td>\n",
       "      <td>10.0</td>\n",
       "      <td>ISLAY</td>\n",
       "      <td>4.582576</td>\n",
       "    </tr>\n",
       "  </tbody>\n",
       "</table>\n",
       "</div>"
      ],
      "text/plain": [
       "<div>\n",
       "<style scoped>\n",
       "    .dataframe tbody tr th:only-of-type {\n",
       "        vertical-align: middle;\n",
       "    }\n",
       "\n",
       "    .dataframe tbody tr th {\n",
       "        vertical-align: top;\n",
       "    }\n",
       "\n",
       "    .dataframe thead th {\n",
       "        text-align: right;\n",
       "    }\n",
       "</style>\n",
       "<table border=\"1\" class=\"dataframe\">\n",
       "  <thead>\n",
       "    <tr style=\"text-align: right;\">\n",
       "      <th></th>\n",
       "      <th>full_name</th>\n",
       "      <th>_AGE</th>\n",
       "      <th>_REGION</th>\n",
       "      <th>Closest</th>\n",
       "    </tr>\n",
       "  </thead>\n",
       "  <tbody>\n",
       "    <tr>\n",
       "      <th>19</th>\n",
       "      <td>Bunnahabhain</td>\n",
       "      <td>12.0</td>\n",
       "      <td>ISLAY</td>\n",
       "      <td>0.000000</td>\n",
       "    </tr>\n",
       "    <tr>\n",
       "      <th>18</th>\n",
       "      <td>Bruichladdich</td>\n",
       "      <td>10.0</td>\n",
       "      <td>ISLAY</td>\n",
       "      <td>3.316625</td>\n",
       "    </tr>\n",
       "    <tr>\n",
       "      <th>20</th>\n",
       "      <td>Caol Ila</td>\n",
       "      <td>12.0</td>\n",
       "      <td>ISLAY</td>\n",
       "      <td>4.000000</td>\n",
       "    </tr>\n",
       "    <tr>\n",
       "      <th>21</th>\n",
       "      <td>Caperdonich</td>\n",
       "      <td>-9.0</td>\n",
       "      <td>HIGH</td>\n",
       "      <td>4.000000</td>\n",
       "    </tr>\n",
       "    <tr>\n",
       "      <th>17</th>\n",
       "      <td>Brackla</td>\n",
       "      <td>-9.0</td>\n",
       "      <td>HIGH</td>\n",
       "      <td>4.358899</td>\n",
       "    </tr>\n",
       "    <tr>\n",
       "      <th>16</th>\n",
       "      <td>Bowmore</td>\n",
       "      <td>10.0</td>\n",
       "      <td>ISLAY</td>\n",
       "      <td>4.582576</td>\n",
       "    </tr>\n",
       "  </tbody>\n",
       "</table>\n",
       "</div>"
      ]
     },
     "execution_count": 208,
     "metadata": {},
     "output_type": "execute_result"
    }
   ],
   "source": [
    "# Find common whisky\n",
    "choice = 'Lagavulin'\n",
    "\n",
    "data['id'] = data.index + 1\n",
    "knn_columns = ['full_name', 'short_name', '_AGE', '_DIST', '_SCORE', '_%', '_REGION', '_DISTRICT',\n",
    "       '_islay', '_midland', '_spey', '_east', '_west', '_north ', '_lowland',\n",
    "       '_campbell', '_islands']\n",
    "X_train = data.drop(knn_columns, axis=1)\n",
    "y_train = data['id']\n",
    "X_test = data.query('full_name == @choice').drop(knn_columns, axis=1)\n",
    "\n",
    "nn = NearestNeighbors(n_neighbors=1)\n",
    "nn.fit(X_train)\n",
    "distance, indeces = nn.kneighbors(X_test, n_neighbors=6)\n",
    "\n",
    "print('_'*70, '\\nTaking into cosideration 5 distinct Whisky characteristics,',\n",
    "              'Most recommended scotch (based on {0}) are:'.format(choice), '_'*70, sep='\\n')\n",
    "pd.concat([data.iloc[indeces[0], [0, -16, -12]], \n",
    "           pd.Series(distance[0], index=data.iloc[indeces[0], 0].index, name='Closest')], axis=1)\n"
   ]
  },
  {
   "cell_type": "code",
   "execution_count": null,
   "metadata": {},
   "outputs": [],
   "source": []
  }
 ],
 "metadata": {
  "kernelspec": {
   "display_name": "Python 2",
   "language": "python",
   "name": "python2"
  },
  "language_info": {
   "codemirror_mode": {
    "name": "ipython",
    "version": 2
   },
   "file_extension": ".py",
   "mimetype": "text/x-python",
   "name": "python",
   "nbconvert_exporter": "python",
   "pygments_lexer": "ipython2",
   "version": "2.7.6"
  }
 },
 "nbformat": 4,
 "nbformat_minor": 0
}
